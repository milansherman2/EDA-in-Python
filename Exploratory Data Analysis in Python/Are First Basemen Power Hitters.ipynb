{
 "cells": [
  {
   "cell_type": "markdown",
   "id": "c3408ee7",
   "metadata": {},
   "source": [
    "## Final Project\n",
    "### DSC 530\n",
    "### Milan Sherman"
   ]
  },
  {
   "cell_type": "markdown",
   "id": "6f4da77c",
   "metadata": {},
   "source": [
    "Import libraries and load data"
   ]
  },
  {
   "cell_type": "code",
   "execution_count": 29,
   "id": "47410e6b",
   "metadata": {},
   "outputs": [],
   "source": [
    "import pandas as pd\n",
    "import numpy as np\n",
    "import thinkstats2\n",
    "import thinkplot\n",
    "\n",
    "\n",
    "bb = pd.read_csv (r'C:\\Users\\misherman\\DS-520\\Baseball Datasets\\mlbbatting1901-2021.csv')\n"
   ]
  },
  {
   "cell_type": "code",
   "execution_count": 30,
   "id": "818ab531",
   "metadata": {},
   "outputs": [
    {
     "name": "stdout",
     "output_type": "stream",
     "text": [
      "Index(['ID', 'Player', 'Date', 'Tm', 'Opp', 'Rslt', 'PA', 'AB', 'R', 'H', '2B',\n",
      "       '3B', 'HR', 'RBI', 'BB', 'IBB', 'SO', 'HBP', 'SH', 'SF', 'ROE', 'GDP',\n",
      "       'SB', 'CS', 'WPA', 'RE24', 'aLI', 'BOP', 'position', 'DFS(DK)',\n",
      "       'DFS(FD)'],\n",
      "      dtype='object')\n"
     ]
    }
   ],
   "source": [
    "bb = bb.rename(columns={'Pos Summary': 'position'})\n",
    "print (bb.columns)"
   ]
  },
  {
   "cell_type": "code",
   "execution_count": 31,
   "id": "d8e7106b",
   "metadata": {},
   "outputs": [
    {
     "name": "stdout",
     "output_type": "stream",
     "text": [
      "(4285629, 31)\n"
     ]
    }
   ],
   "source": [
    "print (bb.shape)"
   ]
  },
  {
   "cell_type": "markdown",
   "id": "eba98772",
   "metadata": {},
   "source": [
    "Below I create singles from the other variables in the data by subtracting the number of doubles, triples, and home runs from hits"
   ]
  },
  {
   "cell_type": "code",
   "execution_count": 32,
   "id": "80fed39a",
   "metadata": {},
   "outputs": [],
   "source": [
    "bb['1B'] = bb['H'] - (bb['2B'] + bb['3B'] + bb['HR'])"
   ]
  },
  {
   "cell_type": "code",
   "execution_count": 33,
   "id": "89e8f4f3",
   "metadata": {},
   "outputs": [
    {
     "data": {
      "text/html": [
       "<div>\n",
       "<style scoped>\n",
       "    .dataframe tbody tr th:only-of-type {\n",
       "        vertical-align: middle;\n",
       "    }\n",
       "\n",
       "    .dataframe tbody tr th {\n",
       "        vertical-align: top;\n",
       "    }\n",
       "\n",
       "    .dataframe thead th {\n",
       "        text-align: right;\n",
       "    }\n",
       "</style>\n",
       "<table border=\"1\" class=\"dataframe\">\n",
       "  <thead>\n",
       "    <tr style=\"text-align: right;\">\n",
       "      <th></th>\n",
       "      <th>ID</th>\n",
       "      <th>Player</th>\n",
       "      <th>Date</th>\n",
       "      <th>Tm</th>\n",
       "      <th>Opp</th>\n",
       "      <th>Rslt</th>\n",
       "      <th>PA</th>\n",
       "      <th>AB</th>\n",
       "      <th>R</th>\n",
       "      <th>H</th>\n",
       "      <th>...</th>\n",
       "      <th>SB</th>\n",
       "      <th>CS</th>\n",
       "      <th>WPA</th>\n",
       "      <th>RE24</th>\n",
       "      <th>aLI</th>\n",
       "      <th>BOP</th>\n",
       "      <th>position</th>\n",
       "      <th>DFS(DK)</th>\n",
       "      <th>DFS(FD)</th>\n",
       "      <th>1B</th>\n",
       "    </tr>\n",
       "  </thead>\n",
       "  <tbody>\n",
       "    <tr>\n",
       "      <th>0</th>\n",
       "      <td>crossmo01</td>\n",
       "      <td>Monte Cross</td>\n",
       "      <td>1901-04-18</td>\n",
       "      <td>PHI</td>\n",
       "      <td>BRO</td>\n",
       "      <td>L 7-12</td>\n",
       "      <td>5</td>\n",
       "      <td>4</td>\n",
       "      <td>2</td>\n",
       "      <td>2</td>\n",
       "      <td>...</td>\n",
       "      <td>0</td>\n",
       "      <td>NaN</td>\n",
       "      <td>NaN</td>\n",
       "      <td>NaN</td>\n",
       "      <td>NaN</td>\n",
       "      <td>8</td>\n",
       "      <td>SS</td>\n",
       "      <td>NaN</td>\n",
       "      <td>NaN</td>\n",
       "      <td>1</td>\n",
       "    </tr>\n",
       "    <tr>\n",
       "      <th>1</th>\n",
       "      <td>dahlebi01</td>\n",
       "      <td>Bill Dahlen</td>\n",
       "      <td>1901-04-18</td>\n",
       "      <td>BRO</td>\n",
       "      <td>PHI</td>\n",
       "      <td>W 12-7</td>\n",
       "      <td>5</td>\n",
       "      <td>4</td>\n",
       "      <td>2</td>\n",
       "      <td>3</td>\n",
       "      <td>...</td>\n",
       "      <td>2</td>\n",
       "      <td>NaN</td>\n",
       "      <td>NaN</td>\n",
       "      <td>NaN</td>\n",
       "      <td>NaN</td>\n",
       "      <td>7</td>\n",
       "      <td>SS</td>\n",
       "      <td>NaN</td>\n",
       "      <td>NaN</td>\n",
       "      <td>3</td>\n",
       "    </tr>\n",
       "    <tr>\n",
       "      <th>2</th>\n",
       "      <td>dalyto01</td>\n",
       "      <td>Tom Daly</td>\n",
       "      <td>1901-04-18</td>\n",
       "      <td>BRO</td>\n",
       "      <td>PHI</td>\n",
       "      <td>W 12-7</td>\n",
       "      <td>5</td>\n",
       "      <td>5</td>\n",
       "      <td>1</td>\n",
       "      <td>2</td>\n",
       "      <td>...</td>\n",
       "      <td>0</td>\n",
       "      <td>NaN</td>\n",
       "      <td>NaN</td>\n",
       "      <td>NaN</td>\n",
       "      <td>NaN</td>\n",
       "      <td>6</td>\n",
       "      <td>2B</td>\n",
       "      <td>NaN</td>\n",
       "      <td>NaN</td>\n",
       "      <td>1</td>\n",
       "    </tr>\n",
       "    <tr>\n",
       "      <th>3</th>\n",
       "      <td>davisle01</td>\n",
       "      <td>Lefty Davis</td>\n",
       "      <td>1901-04-18</td>\n",
       "      <td>BRO</td>\n",
       "      <td>PHI</td>\n",
       "      <td>W 12-7</td>\n",
       "      <td>5</td>\n",
       "      <td>5</td>\n",
       "      <td>1</td>\n",
       "      <td>1</td>\n",
       "      <td>...</td>\n",
       "      <td>0</td>\n",
       "      <td>NaN</td>\n",
       "      <td>NaN</td>\n",
       "      <td>NaN</td>\n",
       "      <td>NaN</td>\n",
       "      <td>1</td>\n",
       "      <td>LF</td>\n",
       "      <td>NaN</td>\n",
       "      <td>NaN</td>\n",
       "      <td>1</td>\n",
       "    </tr>\n",
       "    <tr>\n",
       "      <th>4</th>\n",
       "      <td>delahed01</td>\n",
       "      <td>Ed Delahanty</td>\n",
       "      <td>1901-04-18</td>\n",
       "      <td>PHI</td>\n",
       "      <td>BRO</td>\n",
       "      <td>L 7-12</td>\n",
       "      <td>5</td>\n",
       "      <td>4</td>\n",
       "      <td>1</td>\n",
       "      <td>2</td>\n",
       "      <td>...</td>\n",
       "      <td>0</td>\n",
       "      <td>NaN</td>\n",
       "      <td>NaN</td>\n",
       "      <td>NaN</td>\n",
       "      <td>NaN</td>\n",
       "      <td>3</td>\n",
       "      <td>1B</td>\n",
       "      <td>NaN</td>\n",
       "      <td>NaN</td>\n",
       "      <td>2</td>\n",
       "    </tr>\n",
       "  </tbody>\n",
       "</table>\n",
       "<p>5 rows × 32 columns</p>\n",
       "</div>"
      ],
      "text/plain": [
       "          ID        Player        Date   Tm  Opp    Rslt  PA  AB  R  H  ...  \\\n",
       "0  crossmo01   Monte Cross  1901-04-18  PHI  BRO  L 7-12   5   4  2  2  ...   \n",
       "1  dahlebi01   Bill Dahlen  1901-04-18  BRO  PHI  W 12-7   5   4  2  3  ...   \n",
       "2   dalyto01      Tom Daly  1901-04-18  BRO  PHI  W 12-7   5   5  1  2  ...   \n",
       "3  davisle01   Lefty Davis  1901-04-18  BRO  PHI  W 12-7   5   5  1  1  ...   \n",
       "4  delahed01  Ed Delahanty  1901-04-18  PHI  BRO  L 7-12   5   4  1  2  ...   \n",
       "\n",
       "   SB  CS  WPA  RE24  aLI  BOP  position  DFS(DK)  DFS(FD)  1B  \n",
       "0   0 NaN  NaN   NaN  NaN    8        SS      NaN      NaN   1  \n",
       "1   2 NaN  NaN   NaN  NaN    7        SS      NaN      NaN   3  \n",
       "2   0 NaN  NaN   NaN  NaN    6        2B      NaN      NaN   1  \n",
       "3   0 NaN  NaN   NaN  NaN    1        LF      NaN      NaN   1  \n",
       "4   0 NaN  NaN   NaN  NaN    3        1B      NaN      NaN   2  \n",
       "\n",
       "[5 rows x 32 columns]"
      ]
     },
     "execution_count": 33,
     "metadata": {},
     "output_type": "execute_result"
    }
   ],
   "source": [
    "bb.head()"
   ]
  },
  {
   "cell_type": "markdown",
   "id": "f2bf042c",
   "metadata": {},
   "source": [
    "I create functions to generate the IQR and use it to idenitfy outliers in each variable"
   ]
  },
  {
   "cell_type": "code",
   "execution_count": 34,
   "id": "3e7fe2a3",
   "metadata": {},
   "outputs": [],
   "source": [
    "# calculate IQR\n",
    "def IQR(data, col):\n",
    "    Q3 = np.quantile(data[col], 0.75)\n",
    "    Q1 = np.quantile(data[col], 0.25)\n",
    "    IQR = Q3 - Q1\n",
    " \n",
    "    print(\"IQR value for column %s is: %s\" % (col, IQR))\n",
    "\n",
    " "
   ]
  },
  {
   "cell_type": "code",
   "execution_count": 35,
   "id": "d4527895",
   "metadata": {},
   "outputs": [],
   "source": [
    "# Identifying the outliers\n",
    "def Outliers(data, col):\n",
    "    \n",
    "    Q3 = np.quantile(data[col], 0.75)\n",
    "    Q1 = np.quantile(data[col], 0.25)\n",
    "    IQR = Q3 - Q1\n",
    "    \n",
    "    global outlier_free_list\n",
    "    global filtered_data\n",
    "    outlier_list = []\n",
    "    lower_range = Q1 - 1.5 * IQR\n",
    "    upper_range = Q3 + 1.5 * IQR\n",
    "    outlier_list = [x for x in data[col] if (\n",
    "        (x < lower_range) | (x > upper_range))]\n",
    "    outliers = np.unique(outlier_list)\n",
    "    return outliers"
   ]
  },
  {
   "cell_type": "markdown",
   "id": "3e87ce82",
   "metadata": {},
   "source": [
    "I generate a histogram, descriptive statistics, IQR, and outliers for each variable below."
   ]
  },
  {
   "cell_type": "markdown",
   "id": "0686742e",
   "metadata": {},
   "source": [
    "## At bats"
   ]
  },
  {
   "cell_type": "code",
   "execution_count": 36,
   "id": "55786ec4",
   "metadata": {},
   "outputs": [
    {
     "data": {
      "image/png": "[encoded data removed]",
      "text/plain": [
       "<Figure size 432x288 with 1 Axes>"
      ]
     },
     "metadata": {
      "needs_background": "light"
     },
     "output_type": "display_data"
    }
   ],
   "source": [
    "hist = thinkstats2.Hist(bb['AB'], label='at bats')\n",
    "thinkplot.Hist(hist)\n",
    "thinkplot.Config(xlabel='Number of at bats in a game', ylabel='Count')"
   ]
  },
  {
   "cell_type": "code",
   "execution_count": 37,
   "id": "f2b3c926",
   "metadata": {},
   "outputs": [
    {
     "data": {
      "text/plain": [
       "count    4.285629e+06\n",
       "mean     3.217964e+00\n",
       "std      1.313924e+00\n",
       "min      0.000000e+00\n",
       "25%      2.000000e+00\n",
       "50%      3.000000e+00\n",
       "75%      4.000000e+00\n",
       "max      1.100000e+01\n",
       "Name: AB, dtype: float64"
      ]
     },
     "execution_count": 37,
     "metadata": {},
     "output_type": "execute_result"
    }
   ],
   "source": [
    "bb.AB.describe()"
   ]
  },
  {
   "cell_type": "code",
   "execution_count": 38,
   "id": "311a54e9",
   "metadata": {},
   "outputs": [
    {
     "name": "stdout",
     "output_type": "stream",
     "text": [
      "IQR value for column AB is: 2.0\n"
     ]
    }
   ],
   "source": [
    "IQR(bb, 'AB')"
   ]
  },
  {
   "cell_type": "code",
   "execution_count": 39,
   "id": "239c9813",
   "metadata": {},
   "outputs": [
    {
     "data": {
      "text/plain": [
       "array([ 8,  9, 10, 11])"
      ]
     },
     "execution_count": 39,
     "metadata": {},
     "output_type": "execute_result"
    }
   ],
   "source": [
    "Outliers(bb, 'AB')"
   ]
  },
  {
   "cell_type": "code",
   "execution_count": 40,
   "id": "3dc7a96e",
   "metadata": {
    "scrolled": true
   },
   "outputs": [
    {
     "data": {
      "text/plain": [
       "0       71512\n",
       "1      591099\n",
       "2      427946\n",
       "3     1052468\n",
       "4     1598029\n",
       "5      485481\n",
       "6       49274\n",
       "7        7740\n",
       "8        1587\n",
       "9         381\n",
       "10         98\n",
       "11         14\n",
       "Name: AB, dtype: int64"
      ]
     },
     "execution_count": 40,
     "metadata": {},
     "output_type": "execute_result"
    }
   ],
   "source": [
    "bb.AB.value_counts().sort_index()"
   ]
  },
  {
   "cell_type": "markdown",
   "id": "6c9a74e5",
   "metadata": {},
   "source": [
    "## Hits"
   ]
  },
  {
   "cell_type": "code",
   "execution_count": 41,
   "id": "15762822",
   "metadata": {},
   "outputs": [
    {
     "data": {
      "image/png": "[encoded data removed]",
      "text/plain": [
       "<Figure size 432x288 with 1 Axes>"
      ]
     },
     "metadata": {
      "needs_background": "light"
     },
     "output_type": "display_data"
    }
   ],
   "source": [
    "hist = thinkstats2.Hist(bb['H'], label='singles')\n",
    "thinkplot.Hist(hist)\n",
    "thinkplot.Config(xlabel='Number of hits in a game', ylabel='Count')"
   ]
  },
  {
   "cell_type": "code",
   "execution_count": 42,
   "id": "a59f9860",
   "metadata": {},
   "outputs": [
    {
     "data": {
      "text/plain": [
       "count    4.285629e+06\n",
       "mean     8.391662e-01\n",
       "std      8.974112e-01\n",
       "min      0.000000e+00\n",
       "25%      0.000000e+00\n",
       "50%      1.000000e+00\n",
       "75%      1.000000e+00\n",
       "max      9.000000e+00\n",
       "Name: H, dtype: float64"
      ]
     },
     "execution_count": 42,
     "metadata": {},
     "output_type": "execute_result"
    }
   ],
   "source": [
    "bb.H.describe()"
   ]
  },
  {
   "cell_type": "code",
   "execution_count": 43,
   "id": "6da27c34",
   "metadata": {},
   "outputs": [
    {
     "name": "stdout",
     "output_type": "stream",
     "text": [
      "IQR value for column H is: 1.0\n"
     ]
    }
   ],
   "source": [
    "IQR(bb, 'H')"
   ]
  },
  {
   "cell_type": "code",
   "execution_count": 44,
   "id": "5f414140",
   "metadata": {},
   "outputs": [
    {
     "data": {
      "text/plain": [
       "array([3, 4, 5, 6, 7, 9])"
      ]
     },
     "execution_count": 44,
     "metadata": {},
     "output_type": "execute_result"
    }
   ],
   "source": [
    "Outliers(bb, 'H')"
   ]
  },
  {
   "cell_type": "code",
   "execution_count": 45,
   "id": "0905cf44",
   "metadata": {},
   "outputs": [
    {
     "data": {
      "text/plain": [
       "0    1841452\n",
       "1    1539882\n",
       "2     690018\n",
       "3     183371\n",
       "4      28330\n",
       "5       2459\n",
       "6        112\n",
       "7          4\n",
       "9          1\n",
       "Name: H, dtype: int64"
      ]
     },
     "execution_count": 45,
     "metadata": {},
     "output_type": "execute_result"
    }
   ],
   "source": [
    "bb.H.value_counts().sort_index()"
   ]
  },
  {
   "cell_type": "markdown",
   "id": "3a5d9291",
   "metadata": {},
   "source": [
    "## Singles"
   ]
  },
  {
   "cell_type": "code",
   "execution_count": 46,
   "id": "a3e75df0",
   "metadata": {},
   "outputs": [
    {
     "data": {
      "image/png": "[encoded data removed]",
      "text/plain": [
       "<Figure size 432x288 with 1 Axes>"
      ]
     },
     "metadata": {
      "needs_background": "light"
     },
     "output_type": "display_data"
    }
   ],
   "source": [
    "hist = thinkstats2.Hist(bb['1B'], label='singles')\n",
    "thinkplot.Hist(hist)\n",
    "thinkplot.Config(xlabel='Number of singles in a game', ylabel='Count')"
   ]
  },
  {
   "cell_type": "code",
   "execution_count": 47,
   "id": "2c903b0c",
   "metadata": {},
   "outputs": [
    {
     "data": {
      "text/plain": [
       "count    4.285629e+06\n",
       "mean     5.953877e-01\n",
       "std      7.602834e-01\n",
       "min     -2.000000e+00\n",
       "25%      0.000000e+00\n",
       "50%      0.000000e+00\n",
       "75%      1.000000e+00\n",
       "max      7.000000e+00\n",
       "Name: 1B, dtype: float64"
      ]
     },
     "execution_count": 47,
     "metadata": {},
     "output_type": "execute_result"
    }
   ],
   "source": [
    "bb['1B'].describe()"
   ]
  },
  {
   "cell_type": "code",
   "execution_count": 48,
   "id": "b628c9eb",
   "metadata": {},
   "outputs": [
    {
     "data": {
      "text/plain": [
       " 0    2350482\n",
       " 1    1414744\n",
       " 2     433632\n",
       " 3      78013\n",
       " 4       8235\n",
       " 5        500\n",
       " 6         20\n",
       " 7          1\n",
       "-1          1\n",
       "-2          1\n",
       "Name: 1B, dtype: int64"
      ]
     },
     "execution_count": 48,
     "metadata": {},
     "output_type": "execute_result"
    }
   ],
   "source": [
    "bb['1B'].value_counts() "
   ]
  },
  {
   "cell_type": "markdown",
   "id": "4c0b3283",
   "metadata": {},
   "source": [
    "I noticed that singles have a few negative values, which doesn't make sense.  I am chalking this up as bad data and removing these observations and generating the histogram again without these values."
   ]
  },
  {
   "cell_type": "code",
   "execution_count": 49,
   "id": "adf5c313",
   "metadata": {},
   "outputs": [],
   "source": [
    "bb.drop(bb.loc[bb['1B']==-1].index, inplace=True)\n",
    "bb.drop(bb.loc[bb['1B']==-2].index, inplace=True)"
   ]
  },
  {
   "cell_type": "code",
   "execution_count": 50,
   "id": "81a9cecc",
   "metadata": {},
   "outputs": [
    {
     "data": {
      "image/png": "[encoded data removed]",
      "text/plain": [
       "<Figure size 432x288 with 1 Axes>"
      ]
     },
     "metadata": {
      "needs_background": "light"
     },
     "output_type": "display_data"
    }
   ],
   "source": [
    "hist = thinkstats2.Hist(bb['1B'], label='singles')\n",
    "thinkplot.Hist(hist)\n",
    "thinkplot.Config(xlabel='Number of singles in a game', ylabel='Count')"
   ]
  },
  {
   "cell_type": "code",
   "execution_count": 51,
   "id": "d04c35a1",
   "metadata": {},
   "outputs": [
    {
     "name": "stdout",
     "output_type": "stream",
     "text": [
      "IQR value for column 1B is: 1.0\n"
     ]
    }
   ],
   "source": [
    "IQR(bb, '1B')"
   ]
  },
  {
   "cell_type": "code",
   "execution_count": 52,
   "id": "3f24325e",
   "metadata": {},
   "outputs": [
    {
     "data": {
      "text/plain": [
       "array([3, 4, 5, 6, 7])"
      ]
     },
     "execution_count": 52,
     "metadata": {},
     "output_type": "execute_result"
    }
   ],
   "source": [
    "Outliers(bb, '1B')"
   ]
  },
  {
   "cell_type": "markdown",
   "id": "39ad7183",
   "metadata": {},
   "source": [
    "## Doubles"
   ]
  },
  {
   "cell_type": "code",
   "execution_count": 53,
   "id": "0598a465",
   "metadata": {},
   "outputs": [
    {
     "data": {
      "image/png": "[encoded data removed]",
      "text/plain": [
       "<Figure size 432x288 with 1 Axes>"
      ]
     },
     "metadata": {
      "needs_background": "light"
     },
     "output_type": "display_data"
    }
   ],
   "source": [
    "hist = thinkstats2.Hist(bb['2B'], label='doubles')\n",
    "thinkplot.Hist(hist)\n",
    "thinkplot.Config(xlabel='Number of doubles in a game', ylabel='Count')"
   ]
  },
  {
   "cell_type": "code",
   "execution_count": 54,
   "id": "402de539",
   "metadata": {},
   "outputs": [
    {
     "data": {
      "text/plain": [
       "count    4.285627e+06\n",
       "mean     1.460377e-01\n",
       "std      3.830144e-01\n",
       "min      0.000000e+00\n",
       "25%      0.000000e+00\n",
       "50%      0.000000e+00\n",
       "75%      0.000000e+00\n",
       "max      4.000000e+00\n",
       "Name: 2B, dtype: float64"
      ]
     },
     "execution_count": 54,
     "metadata": {},
     "output_type": "execute_result"
    }
   ],
   "source": [
    "bb['2B'].describe()"
   ]
  },
  {
   "cell_type": "code",
   "execution_count": 55,
   "id": "b12c67b2",
   "metadata": {},
   "outputs": [
    {
     "name": "stdout",
     "output_type": "stream",
     "text": [
      "IQR value for column 2B is: 0.0\n"
     ]
    }
   ],
   "source": [
    "IQR(bb, '2B')"
   ]
  },
  {
   "cell_type": "code",
   "execution_count": 56,
   "id": "e299c658",
   "metadata": {},
   "outputs": [
    {
     "data": {
      "text/plain": [
       "array([1, 2, 3, 4])"
      ]
     },
     "execution_count": 56,
     "metadata": {},
     "output_type": "execute_result"
    }
   ],
   "source": [
    "Outliers(bb, '2B')"
   ]
  },
  {
   "cell_type": "code",
   "execution_count": 57,
   "id": "14450aec",
   "metadata": {},
   "outputs": [
    {
     "data": {
      "text/plain": [
       "0    3704837\n",
       "1     537715\n",
       "2      41125\n",
       "3       1902\n",
       "4         48\n",
       "Name: 2B, dtype: int64"
      ]
     },
     "execution_count": 57,
     "metadata": {},
     "output_type": "execute_result"
    }
   ],
   "source": [
    "bb['2B'].value_counts().sort_index()"
   ]
  },
  {
   "cell_type": "markdown",
   "id": "7330444e",
   "metadata": {},
   "source": [
    "## Triples"
   ]
  },
  {
   "cell_type": "code",
   "execution_count": 58,
   "id": "c724db79",
   "metadata": {},
   "outputs": [
    {
     "data": {
      "image/png": "[encoded data removed]",
      "text/plain": [
       "<Figure size 432x288 with 1 Axes>"
      ]
     },
     "metadata": {
      "needs_background": "light"
     },
     "output_type": "display_data"
    }
   ],
   "source": [
    "hist = thinkstats2.Hist(bb['3B'], label='triples')\n",
    "thinkplot.Hist(hist)\n",
    "thinkplot.Config(xlabel='Number of triples in a game', ylabel='Count')"
   ]
  },
  {
   "cell_type": "code",
   "execution_count": 59,
   "id": "49eae564",
   "metadata": {},
   "outputs": [
    {
     "data": {
      "text/plain": [
       "count    4.285627e+06\n",
       "mean     2.633944e-02\n",
       "std      1.635267e-01\n",
       "min      0.000000e+00\n",
       "25%      0.000000e+00\n",
       "50%      0.000000e+00\n",
       "75%      0.000000e+00\n",
       "max      3.000000e+00\n",
       "Name: 3B, dtype: float64"
      ]
     },
     "execution_count": 59,
     "metadata": {},
     "output_type": "execute_result"
    }
   ],
   "source": [
    "bb['3B'].describe()"
   ]
  },
  {
   "cell_type": "code",
   "execution_count": 60,
   "id": "ef18df03",
   "metadata": {},
   "outputs": [
    {
     "name": "stdout",
     "output_type": "stream",
     "text": [
      "IQR value for column 3B is: 0.0\n"
     ]
    }
   ],
   "source": [
    "IQR(bb, '3B')"
   ]
  },
  {
   "cell_type": "code",
   "execution_count": 61,
   "id": "337f1ee5",
   "metadata": {},
   "outputs": [
    {
     "data": {
      "text/plain": [
       "array([1, 2, 3])"
      ]
     },
     "execution_count": 61,
     "metadata": {},
     "output_type": "execute_result"
    }
   ],
   "source": [
    "Outliers(bb, '3B')"
   ]
  },
  {
   "cell_type": "code",
   "execution_count": 62,
   "id": "2fa39f86",
   "metadata": {},
   "outputs": [
    {
     "data": {
      "text/plain": [
       "0    4175045\n",
       "1     108331\n",
       "2       2203\n",
       "3         48\n",
       "Name: 3B, dtype: int64"
      ]
     },
     "execution_count": 62,
     "metadata": {},
     "output_type": "execute_result"
    }
   ],
   "source": [
    "bb['3B'].value_counts().sort_index()"
   ]
  },
  {
   "cell_type": "markdown",
   "id": "53a4ea0e",
   "metadata": {},
   "source": [
    "## Home Runs"
   ]
  },
  {
   "cell_type": "code",
   "execution_count": 63,
   "id": "17ce979e",
   "metadata": {},
   "outputs": [
    {
     "data": {
      "image/png": "[encoded data removed]",
      "text/plain": [
       "<Figure size 432x288 with 1 Axes>"
      ]
     },
     "metadata": {
      "needs_background": "light"
     },
     "output_type": "display_data"
    }
   ],
   "source": [
    "hist = thinkstats2.Hist(bb['HR'], label='singles')\n",
    "thinkplot.Hist(hist)\n",
    "thinkplot.Config(xlabel='Number of singles home runs in a game', ylabel='Count')"
   ]
  },
  {
   "cell_type": "code",
   "execution_count": 64,
   "id": "29bf1633",
   "metadata": {},
   "outputs": [
    {
     "data": {
      "text/plain": [
       "count    4.285627e+06\n",
       "mean     7.140075e-02\n",
       "std      2.729843e-01\n",
       "min      0.000000e+00\n",
       "25%      0.000000e+00\n",
       "50%      0.000000e+00\n",
       "75%      0.000000e+00\n",
       "max      4.000000e+00\n",
       "Name: HR, dtype: float64"
      ]
     },
     "execution_count": 64,
     "metadata": {},
     "output_type": "execute_result"
    }
   ],
   "source": [
    "bb['HR'].describe()"
   ]
  },
  {
   "cell_type": "code",
   "execution_count": 65,
   "id": "11867b6b",
   "metadata": {},
   "outputs": [
    {
     "name": "stdout",
     "output_type": "stream",
     "text": [
      "IQR value for column HR is: 0.0\n"
     ]
    }
   ],
   "source": [
    "IQR(bb, 'HR')"
   ]
  },
  {
   "cell_type": "code",
   "execution_count": 66,
   "id": "9c8d7149",
   "metadata": {},
   "outputs": [
    {
     "data": {
      "text/plain": [
       "array([1, 2, 3, 4])"
      ]
     },
     "execution_count": 66,
     "metadata": {},
     "output_type": "execute_result"
    }
   ],
   "source": [
    "Outliers(bb, 'HR')"
   ]
  },
  {
   "cell_type": "code",
   "execution_count": 67,
   "id": "571a93fa",
   "metadata": {},
   "outputs": [
    {
     "data": {
      "text/plain": [
       "0    3996579\n",
       "1     272743\n",
       "2      15677\n",
       "3        612\n",
       "4         16\n",
       "Name: HR, dtype: int64"
      ]
     },
     "execution_count": 67,
     "metadata": {},
     "output_type": "execute_result"
    }
   ],
   "source": [
    "bb['HR'].value_counts().sort_index()"
   ]
  },
  {
   "cell_type": "markdown",
   "id": "3bd3d855",
   "metadata": {},
   "source": [
    "## Summary"
   ]
  },
  {
   "cell_type": "markdown",
   "id": "06f54b7a",
   "metadata": {},
   "source": [
    "In general, each of these variables is positively skewed, with the skew become more prounounced from hits, to single, double, and triples and home runs.  This makes sense for a couple reasons:\n",
    "1. At-bats are slightly positively skewed due to extra inning games.  Since a baseball game cannot end in a tie, the teams keep playing until one team wins, which can result in many more at-bats than the median (3).\n",
    "2. Hits in general, and each type of hit (single, double, triple, home run) are a function of at-bats, i.e., you can only get a hit if you have an at-bat.  Most players have a batting average between .200 and .350, meaning that they only get a hit every one in three to five times at bat (the mean in this data is about 0.8 hits per game).  Thus, it is most likely that a player gets no hits or one hit during a game.   \n",
    "3.  Singles are the easiest type of hit to get, followed by doubles.  It is not uncommon to have multiple singles and doubles in a game (but almost always more singles than doubles).  Triples are actually the hardest hit to get because it's difficult to round three bases with the ball in play (note that the mean and max for triples is less than home runs). A triple requires some luck on where the ball goes and a player who can run fast. A home run is knocked out of the playing area, so it's simply a matter of hitting the ball far. "
   ]
  },
  {
   "cell_type": "markdown",
   "id": "0f813dc3",
   "metadata": {},
   "source": [
    "## Outliers"
   ]
  },
  {
   "cell_type": "markdown",
   "id": "29dfed15",
   "metadata": {},
   "source": [
    "Every one of these variables has outliers due to the fact that there is a large amount of data and hits are not easy to get in baseball.   This results in an IQR equal to one for hits and singles, and an IQR equal to 0 for the other types of hits.  With such a tight distribution, even one double, for example, is an outlier despite the fact that most games usually have multiple doubles.  The only metric where it might make sense to remove the outliers is at-bats, as the outliers for this variable almost certainly came in extra-inning games.  However, a very small percent of the data are outliers and the data do not indicate which games went into extra innings, so I will leave them."
   ]
  },
  {
   "cell_type": "markdown",
   "id": "13f82197",
   "metadata": {},
   "source": [
    "## Comparing Distributions"
   ]
  },
  {
   "cell_type": "markdown",
   "id": "b5d3fabf",
   "metadata": {},
   "source": [
    "I now create two dataframes, one for firstbasemen, and another all other positions (except pitchers), and compare the distribution of different type of hits using a pmf.  I am excluding pitchers as they are notoriously bad hitters and would skew the comparison in favor first basemen."
   ]
  },
  {
   "cell_type": "code",
   "execution_count": 68,
   "id": "9bbaaa67",
   "metadata": {},
   "outputs": [],
   "source": [
    "firstbasemen = bb[bb.position == '1B']\n",
    "other = bb[(bb['position'] == '2B') | (bb['position'] == '3B')  | (bb['position'] == 'SS')  | (bb['position'] == 'LF')  | (bb['position'] == 'CF')  | (bb['position'] == 'RF')  | (bb['position'] == 'C')]"
   ]
  },
  {
   "cell_type": "code",
   "execution_count": 69,
   "id": "bc2c730a",
   "metadata": {},
   "outputs": [
    {
     "data": {
      "text/html": [
       "<div>\n",
       "<style scoped>\n",
       "    .dataframe tbody tr th:only-of-type {\n",
       "        vertical-align: middle;\n",
       "    }\n",
       "\n",
       "    .dataframe tbody tr th {\n",
       "        vertical-align: top;\n",
       "    }\n",
       "\n",
       "    .dataframe thead th {\n",
       "        text-align: right;\n",
       "    }\n",
       "</style>\n",
       "<table border=\"1\" class=\"dataframe\">\n",
       "  <thead>\n",
       "    <tr style=\"text-align: right;\">\n",
       "      <th></th>\n",
       "      <th>ID</th>\n",
       "      <th>Player</th>\n",
       "      <th>Date</th>\n",
       "      <th>Tm</th>\n",
       "      <th>Opp</th>\n",
       "      <th>Rslt</th>\n",
       "      <th>PA</th>\n",
       "      <th>AB</th>\n",
       "      <th>R</th>\n",
       "      <th>H</th>\n",
       "      <th>...</th>\n",
       "      <th>SB</th>\n",
       "      <th>CS</th>\n",
       "      <th>WPA</th>\n",
       "      <th>RE24</th>\n",
       "      <th>aLI</th>\n",
       "      <th>BOP</th>\n",
       "      <th>position</th>\n",
       "      <th>DFS(DK)</th>\n",
       "      <th>DFS(FD)</th>\n",
       "      <th>1B</th>\n",
       "    </tr>\n",
       "  </thead>\n",
       "  <tbody>\n",
       "    <tr>\n",
       "      <th>4</th>\n",
       "      <td>delahed01</td>\n",
       "      <td>Ed Delahanty</td>\n",
       "      <td>1901-04-18</td>\n",
       "      <td>PHI</td>\n",
       "      <td>BRO</td>\n",
       "      <td>L 7-12</td>\n",
       "      <td>5</td>\n",
       "      <td>4</td>\n",
       "      <td>1</td>\n",
       "      <td>2</td>\n",
       "      <td>...</td>\n",
       "      <td>0</td>\n",
       "      <td>NaN</td>\n",
       "      <td>NaN</td>\n",
       "      <td>NaN</td>\n",
       "      <td>NaN</td>\n",
       "      <td>3</td>\n",
       "      <td>1B</td>\n",
       "      <td>NaN</td>\n",
       "      <td>NaN</td>\n",
       "      <td>2</td>\n",
       "    </tr>\n",
       "    <tr>\n",
       "      <th>10</th>\n",
       "      <td>kellejo01</td>\n",
       "      <td>Joe Kelley</td>\n",
       "      <td>1901-04-18</td>\n",
       "      <td>BRO</td>\n",
       "      <td>PHI</td>\n",
       "      <td>W 12-7</td>\n",
       "      <td>5</td>\n",
       "      <td>5</td>\n",
       "      <td>1</td>\n",
       "      <td>3</td>\n",
       "      <td>...</td>\n",
       "      <td>1</td>\n",
       "      <td>NaN</td>\n",
       "      <td>NaN</td>\n",
       "      <td>NaN</td>\n",
       "      <td>NaN</td>\n",
       "      <td>4</td>\n",
       "      <td>1B</td>\n",
       "      <td>NaN</td>\n",
       "      <td>NaN</td>\n",
       "      <td>2</td>\n",
       "    </tr>\n",
       "    <tr>\n",
       "      <th>28</th>\n",
       "      <td>delahed01</td>\n",
       "      <td>Ed Delahanty</td>\n",
       "      <td>1901-04-19</td>\n",
       "      <td>PHI</td>\n",
       "      <td>BRO</td>\n",
       "      <td>L 2-10</td>\n",
       "      <td>4</td>\n",
       "      <td>4</td>\n",
       "      <td>0</td>\n",
       "      <td>0</td>\n",
       "      <td>...</td>\n",
       "      <td>0</td>\n",
       "      <td>NaN</td>\n",
       "      <td>NaN</td>\n",
       "      <td>NaN</td>\n",
       "      <td>NaN</td>\n",
       "      <td>3</td>\n",
       "      <td>1B</td>\n",
       "      <td>NaN</td>\n",
       "      <td>NaN</td>\n",
       "      <td>0</td>\n",
       "    </tr>\n",
       "    <tr>\n",
       "      <th>35</th>\n",
       "      <td>doyleja01</td>\n",
       "      <td>Jack Doyle</td>\n",
       "      <td>1901-04-19</td>\n",
       "      <td>CHC</td>\n",
       "      <td>STL</td>\n",
       "      <td>W 8-7</td>\n",
       "      <td>5</td>\n",
       "      <td>5</td>\n",
       "      <td>2</td>\n",
       "      <td>4</td>\n",
       "      <td>...</td>\n",
       "      <td>0</td>\n",
       "      <td>NaN</td>\n",
       "      <td>NaN</td>\n",
       "      <td>NaN</td>\n",
       "      <td>NaN</td>\n",
       "      <td>5</td>\n",
       "      <td>1B</td>\n",
       "      <td>NaN</td>\n",
       "      <td>NaN</td>\n",
       "      <td>4</td>\n",
       "    </tr>\n",
       "    <tr>\n",
       "      <th>37</th>\n",
       "      <td>ganzejo01</td>\n",
       "      <td>John Ganzel</td>\n",
       "      <td>1901-04-19</td>\n",
       "      <td>NYG</td>\n",
       "      <td>BSN</td>\n",
       "      <td>L 0-7</td>\n",
       "      <td>4</td>\n",
       "      <td>4</td>\n",
       "      <td>0</td>\n",
       "      <td>0</td>\n",
       "      <td>...</td>\n",
       "      <td>0</td>\n",
       "      <td>NaN</td>\n",
       "      <td>NaN</td>\n",
       "      <td>NaN</td>\n",
       "      <td>NaN</td>\n",
       "      <td>6</td>\n",
       "      <td>1B</td>\n",
       "      <td>NaN</td>\n",
       "      <td>NaN</td>\n",
       "      <td>0</td>\n",
       "    </tr>\n",
       "  </tbody>\n",
       "</table>\n",
       "<p>5 rows × 32 columns</p>\n",
       "</div>"
      ],
      "text/plain": [
       "           ID        Player        Date   Tm  Opp    Rslt  PA  AB  R  H  ...  \\\n",
       "4   delahed01  Ed Delahanty  1901-04-18  PHI  BRO  L 7-12   5   4  1  2  ...   \n",
       "10  kellejo01    Joe Kelley  1901-04-18  BRO  PHI  W 12-7   5   5  1  3  ...   \n",
       "28  delahed01  Ed Delahanty  1901-04-19  PHI  BRO  L 2-10   4   4  0  0  ...   \n",
       "35  doyleja01    Jack Doyle  1901-04-19  CHC  STL   W 8-7   5   5  2  4  ...   \n",
       "37  ganzejo01   John Ganzel  1901-04-19  NYG  BSN   L 0-7   4   4  0  0  ...   \n",
       "\n",
       "    SB  CS  WPA  RE24  aLI  BOP  position  DFS(DK)  DFS(FD)  1B  \n",
       "4    0 NaN  NaN   NaN  NaN    3        1B      NaN      NaN   2  \n",
       "10   1 NaN  NaN   NaN  NaN    4        1B      NaN      NaN   2  \n",
       "28   0 NaN  NaN   NaN  NaN    3        1B      NaN      NaN   0  \n",
       "35   0 NaN  NaN   NaN  NaN    5        1B      NaN      NaN   4  \n",
       "37   0 NaN  NaN   NaN  NaN    6        1B      NaN      NaN   0  \n",
       "\n",
       "[5 rows x 32 columns]"
      ]
     },
     "execution_count": 69,
     "metadata": {},
     "output_type": "execute_result"
    }
   ],
   "source": [
    "firstbasemen.head()"
   ]
  },
  {
   "cell_type": "markdown",
   "id": "14390e4b",
   "metadata": {},
   "source": [
    "Below I generate the pmf for first basemen compared to all other positions for singles, which are not power hits, and home runs, which are.  Although any hit that nets more than one base (doubles, triples, and home runs), home runs are a key power hitting metric. "
   ]
  },
  {
   "cell_type": "code",
   "execution_count": 70,
   "id": "046eeeaf",
   "metadata": {},
   "outputs": [],
   "source": [
    "first_singles_pmf = thinkstats2.Pmf(firstbasemen['1B'], label='firstbaseman')\n",
    "other_singles_pmf = thinkstats2.Pmf(other['1B'], label='other')"
   ]
  },
  {
   "cell_type": "code",
   "execution_count": 71,
   "id": "0bd7d3ec",
   "metadata": {},
   "outputs": [
    {
     "data": {
      "image/png": "[encoded data removed]",
      "text/plain": [
       "<Figure size 864x432 with 1 Axes>"
      ]
     },
     "metadata": {
      "needs_background": "light"
     },
     "output_type": "display_data"
    }
   ],
   "source": [
    "width=0.45\n",
    "axis = [-1, 5, 0, 0.5]\n",
    "thinkplot.PrePlot(2, cols=2)\n",
    "thinkplot.Hist(first_singles_pmf, align='right', width=width)\n",
    "thinkplot.Hist(other_singles_pmf, align='left', width=width)\n",
    "thinkplot.Config(xlabel='Number of Singles', ylabel='PMF', axis=axis)"
   ]
  },
  {
   "cell_type": "code",
   "execution_count": 72,
   "id": "629d2b5d",
   "metadata": {},
   "outputs": [],
   "source": [
    "first_HR_pmf = thinkstats2.Pmf(firstbasemen.HR, label='firstbaseman')\n",
    "other_HR_pmf = thinkstats2.Pmf(other.HR, label='other')"
   ]
  },
  {
   "cell_type": "code",
   "execution_count": 73,
   "id": "57fc1fba",
   "metadata": {},
   "outputs": [
    {
     "data": {
      "image/png": "[encoded data removed]",
      "text/plain": [
       "<Figure size 864x432 with 1 Axes>"
      ]
     },
     "metadata": {
      "needs_background": "light"
     },
     "output_type": "display_data"
    }
   ],
   "source": [
    "width=0.45\n",
    "axis = [-1, 4, 0, 1]\n",
    "thinkplot.PrePlot(2, cols=2)\n",
    "thinkplot.Hist(first_HR_pmf, align='right', width=width)\n",
    "thinkplot.Hist(other_HR_pmf, align='left', width=width)\n",
    "thinkplot.Config(xlabel='Number of Home Runs', ylabel='PMF', axis=axis)"
   ]
  },
  {
   "cell_type": "markdown",
   "id": "bcdb66ea",
   "metadata": {},
   "source": [
    "It appears that firstbasemen tend to hit fewer singles (they have a slightly higher proportion of 0 single games, and a slightly lower proportion of multiple single games) and more home runs than other position players (lower proportion of 0 home run games, and higher proportion of one or two home run games)."
   ]
  },
  {
   "cell_type": "markdown",
   "id": "445f9b57",
   "metadata": {},
   "source": [
    "## Cumulative Distribution Function"
   ]
  },
  {
   "cell_type": "markdown",
   "id": "b104c859",
   "metadata": {},
   "source": [
    "When comparing players' metrics, it is worth considering the number of at-bats that a player has had.  One reason for this is that players with fewer at-bats are more likley to be outliers with respect these metrics due to the smaller sample of at-bats.  In general, the more at-bats a player has the better sense we have of that player's true hitting ability.  Hot streaks and slumps are often talked about in baseball, where a player hits above or below their career numbers for a period of time.  For players with fewer at-bats in their career, their career could be dominated by such a streak."
   ]
  },
  {
   "cell_type": "markdown",
   "id": "db82401d",
   "metadata": {},
   "source": [
    "I begin by aggregating the dataset by player, and then create the CDF of at-bats."
   ]
  },
  {
   "cell_type": "code",
   "execution_count": 74,
   "id": "2ed4c847",
   "metadata": {},
   "outputs": [
    {
     "data": {
      "text/plain": [
       "(15985, 7)"
      ]
     },
     "execution_count": 74,
     "metadata": {},
     "output_type": "execute_result"
    }
   ],
   "source": [
    "player = bb.groupby('ID').agg(\n",
    "    H = pd.NamedAgg(column='H', aggfunc = sum),\n",
    "    AB = pd.NamedAgg(column='AB', aggfunc = sum),\n",
    "    singles = pd.NamedAgg(column='1B', aggfunc = sum),\n",
    "    doubles = pd.NamedAgg(column='2B', aggfunc = sum),\n",
    "    triples = pd.NamedAgg(column='3B', aggfunc = sum),\n",
    "    HR = pd.NamedAgg(column='HR', aggfunc = sum), \n",
    "    R = pd.NamedAgg(column='R', aggfunc = sum))\n",
    "player.shape"
   ]
  },
  {
   "cell_type": "markdown",
   "id": "8f6fd392",
   "metadata": {},
   "source": [
    "This dataset has almost 16k unique players."
   ]
  },
  {
   "cell_type": "code",
   "execution_count": 75,
   "id": "2c6e3b7f",
   "metadata": {},
   "outputs": [],
   "source": [
    "at_bats_pmf = thinkstats2.Pmf(player['AB'], label='at_bats')"
   ]
  },
  {
   "cell_type": "code",
   "execution_count": 76,
   "id": "62405969",
   "metadata": {},
   "outputs": [
    {
     "data": {
      "image/png": "[encoded data removed]",
      "text/plain": [
       "<Figure size 432x288 with 1 Axes>"
      ]
     },
     "metadata": {
      "needs_background": "light"
     },
     "output_type": "display_data"
    },
    {
     "data": {
      "text/plain": [
       "<Figure size 576x432 with 0 Axes>"
      ]
     },
     "metadata": {},
     "output_type": "display_data"
    }
   ],
   "source": [
    "cdf = thinkstats2.Cdf(at_bats_pmf, label='At-bats')\n",
    "thinkplot.Cdf(cdf)\n",
    "thinkplot.Show(xlabel='Number of career at-bats by player', ylabel='CDF')"
   ]
  },
  {
   "cell_type": "markdown",
   "id": "ec24c889",
   "metadata": {},
   "source": [
    "While some player (or players) have had as many 14k at-bats, it appears that about 80% of players in this dataset have had fewer than 2000 at-bats.  With an average of 3.2 at-bats per game, and 162 games in a season, we estimate that on average a player gets about 518 at-bats per season.  Thus, we can hypothesize that 80% of the players in this dataset played fewer than 4 full seasons in the Major Leagues."
   ]
  },
  {
   "cell_type": "markdown",
   "id": "688bb197",
   "metadata": {},
   "source": [
    "## Hitting Metrics by position"
   ]
  },
  {
   "cell_type": "markdown",
   "id": "9eb6e277",
   "metadata": {},
   "source": [
    "In order to answer the question about whether first basemen tend to be better power hitters than other positions, I aggregate the hitting metrics by position "
   ]
  },
  {
   "cell_type": "code",
   "execution_count": 77,
   "id": "40e42a58",
   "metadata": {},
   "outputs": [],
   "source": [
    "positions = bb[(bb['position'] == '2B') | (bb['position'] == '1B')  | (bb['position'] == '3B')  | (bb['position'] == 'SS')  | (bb['position'] == 'LF')  | (bb['position'] == 'CF')  | (bb['position'] == 'RF')  | (bb['position'] == 'C')].groupby('position').agg(\n",
    "    H = pd.NamedAgg(column='H', aggfunc = sum),\n",
    "    AB = pd.NamedAgg(column='AB', aggfunc = sum),\n",
    "    singles = pd.NamedAgg(column='1B', aggfunc = sum),\n",
    "    doubles = pd.NamedAgg(column='2B', aggfunc = sum),\n",
    "    triples = pd.NamedAgg(column='3B', aggfunc = sum),\n",
    "    HR = pd.NamedAgg(column='HR', aggfunc = sum))"
   ]
  },
  {
   "cell_type": "code",
   "execution_count": 78,
   "id": "6f9e5201",
   "metadata": {},
   "outputs": [
    {
     "name": "stdout",
     "output_type": "stream",
     "text": [
      "               H       AB  singles  doubles  triples     HR\n",
      "position                                                   \n",
      "1B        413151  1500133   278197    75460    11585  47909\n",
      "2B        398873  1504067   295757    68185    13205  21726\n",
      "3B        393415  1482968   276803    70283    11333  34996\n",
      "C         355838  1414003   255207    62737     7614  30280\n",
      "CF        413498  1512672   294001    70345    16912  32240\n",
      "LF        410787  1492992   282581    72429    14855  40922\n",
      "RF        410047  1489167   279405    72998    14899  42745\n",
      "SS        382904  1481104   285869    64067    12962  20006\n"
     ]
    }
   ],
   "source": [
    "print(positions)"
   ]
  },
  {
   "cell_type": "markdown",
   "id": "2f663162",
   "metadata": {},
   "source": [
    "I now create the relevant metrics from the aggregated variables: at bats, hits, singles, doubles, triples, and HR."
   ]
  },
  {
   "cell_type": "code",
   "execution_count": 79,
   "id": "6d8c71d8",
   "metadata": {},
   "outputs": [
    {
     "name": "stdout",
     "output_type": "stream",
     "text": [
      "               H       AB  singles  doubles  triples     HR        BA  \\\n",
      "position                                                                \n",
      "1B        413151  1500133   278197    75460    11585  47909  0.275410   \n",
      "2B        398873  1504067   295757    68185    13205  21726  0.265196   \n",
      "3B        393415  1482968   276803    70283    11333  34996  0.265289   \n",
      "C         355838  1414003   255207    62737     7614  30280  0.251653   \n",
      "CF        413498  1512672   294001    70345    16912  32240  0.273356   \n",
      "LF        410787  1492992   282581    72429    14855  40922  0.275143   \n",
      "RF        410047  1489167   279405    72998    14899  42745  0.275353   \n",
      "SS        382904  1481104   285869    64067    12962  20006  0.258526   \n",
      "\n",
      "              slug       ISO  single_pct  double_pct  triple_pct    HR_pct  \n",
      "position                                                                    \n",
      "1B        0.436967  0.161557    0.185448    0.050302    0.007723  0.031937  \n",
      "2B        0.371424  0.106227    0.196638    0.045334    0.008780  0.014445  \n",
      "3B        0.398762  0.133474    0.186655    0.047393    0.007642  0.023599  \n",
      "C         0.371034  0.119381    0.180485    0.044368    0.005385  0.021414  \n",
      "CF        0.406160  0.132804    0.194359    0.046504    0.011180  0.021313  \n",
      "LF        0.425784  0.150640    0.189272    0.048513    0.009950  0.027409  \n",
      "RF        0.430494  0.155141    0.187625    0.049019    0.010005  0.028704  \n",
      "SS        0.359808  0.101282    0.193011    0.043256    0.008752  0.013507  \n"
     ]
    }
   ],
   "source": [
    "positions['BA'] = positions.H/positions.AB\n",
    "positions['slug'] = (positions.singles + 2*positions.doubles + 3*positions.triples + 4*positions.HR)/positions.AB\n",
    "positions['ISO'] = positions.slug - positions.BA\n",
    "positions['single_pct'] = positions.singles/positions.AB\n",
    "positions['double_pct'] = positions.doubles/positions.AB\n",
    "positions['triple_pct'] = positions.triples/positions.AB\n",
    "positions['HR_pct'] = positions.HR/positions.AB\n",
    "print(positions)"
   ]
  },
  {
   "cell_type": "markdown",
   "id": "0e29a4aa",
   "metadata": {},
   "source": [
    "I have generated a few metrics for power hitters in this dataframe:\n",
    "1.  Slugging percentage: this is a weighted average of a player’s hits by number of bases that they average per at-bat. It is computed using the following formula: (singles + 2* doubles + 3* triples + 4* home runs)/at-bats\n",
    "2. Isolated power: a player’s slugging percentage minus their batting average.  Batting average gives the same weight to every hit, regardless of how many bases it gets.  By subtracting batting average from slugging percentage, we isolate a player’s extra base hits.\n",
    "3. Home run percentage: As the raw number of home runs is as much a function of number of at bats as it is number of home runs, dividing by the number of at-bats allows us to normalize this metric to see if a player tends to hit more or fewer home runs than other players."
   ]
  },
  {
   "cell_type": "markdown",
   "id": "e5845838",
   "metadata": {},
   "source": [
    "We see that first basemen lead all position players in slugging percentage, isolated power, and home runs, which suggests that they are better power hitters than other position players.  Later will consider the degree to which these differences are real versus being due to chance."
   ]
  },
  {
   "cell_type": "markdown",
   "id": "39382b50",
   "metadata": {},
   "source": [
    "## Scatterplots and Correlation: Slugging Percentage and Runs Scored"
   ]
  },
  {
   "cell_type": "markdown",
   "id": "02508842",
   "metadata": {},
   "source": [
    "A question that we have not addressed yet is \"Why do we care if firstbasemen tend to be better power hitters?\".  Or more generally, why is power hitting important?  In order to investigate this question, I will compare the relationship between slugging percentage and runs scored.  While it takes more than scoring runs to win a baseball game, it is certainly an important part of winning as the team that scores more runs wins the game.\n",
    "\n",
    "In order to generate a dataset to investigate this question, I will aggregagte the original dataset by player and compute slugging percentage and total runs scored.  "
   ]
  },
  {
   "cell_type": "code",
   "execution_count": 80,
   "id": "eab7d11e",
   "metadata": {},
   "outputs": [],
   "source": [
    "player = bb.groupby('ID').agg(\n",
    "    H = pd.NamedAgg(column='H', aggfunc = sum),\n",
    "    AB = pd.NamedAgg(column='AB', aggfunc = sum),\n",
    "    singles = pd.NamedAgg(column='1B', aggfunc = sum),\n",
    "    doubles = pd.NamedAgg(column='2B', aggfunc = sum),\n",
    "    triples = pd.NamedAgg(column='3B', aggfunc = sum),\n",
    "    HR = pd.NamedAgg(column='HR', aggfunc = sum), \n",
    "    R = pd.NamedAgg(column='R', aggfunc = sum))\n"
   ]
  },
  {
   "cell_type": "code",
   "execution_count": 81,
   "id": "b47316dd",
   "metadata": {},
   "outputs": [
    {
     "data": {
      "text/html": [
       "<div>\n",
       "<style scoped>\n",
       "    .dataframe tbody tr th:only-of-type {\n",
       "        vertical-align: middle;\n",
       "    }\n",
       "\n",
       "    .dataframe tbody tr th {\n",
       "        vertical-align: top;\n",
       "    }\n",
       "\n",
       "    .dataframe thead th {\n",
       "        text-align: right;\n",
       "    }\n",
       "</style>\n",
       "<table border=\"1\" class=\"dataframe\">\n",
       "  <thead>\n",
       "    <tr style=\"text-align: right;\">\n",
       "      <th></th>\n",
       "      <th>H</th>\n",
       "      <th>AB</th>\n",
       "      <th>singles</th>\n",
       "      <th>doubles</th>\n",
       "      <th>triples</th>\n",
       "      <th>HR</th>\n",
       "      <th>R</th>\n",
       "      <th>BA</th>\n",
       "      <th>slug</th>\n",
       "    </tr>\n",
       "    <tr>\n",
       "      <th>ID</th>\n",
       "      <th></th>\n",
       "      <th></th>\n",
       "      <th></th>\n",
       "      <th></th>\n",
       "      <th></th>\n",
       "      <th></th>\n",
       "      <th></th>\n",
       "      <th></th>\n",
       "      <th></th>\n",
       "    </tr>\n",
       "  </thead>\n",
       "  <tbody>\n",
       "    <tr>\n",
       "      <th>aardsda01</th>\n",
       "      <td>0</td>\n",
       "      <td>4</td>\n",
       "      <td>0</td>\n",
       "      <td>0</td>\n",
       "      <td>0</td>\n",
       "      <td>0</td>\n",
       "      <td>0</td>\n",
       "      <td>0.000000</td>\n",
       "      <td>0.000000</td>\n",
       "    </tr>\n",
       "    <tr>\n",
       "      <th>aaronha01</th>\n",
       "      <td>3703</td>\n",
       "      <td>12121</td>\n",
       "      <td>2253</td>\n",
       "      <td>614</td>\n",
       "      <td>96</td>\n",
       "      <td>740</td>\n",
       "      <td>2128</td>\n",
       "      <td>0.305503</td>\n",
       "      <td>0.555152</td>\n",
       "    </tr>\n",
       "    <tr>\n",
       "      <th>aaronto01</th>\n",
       "      <td>216</td>\n",
       "      <td>944</td>\n",
       "      <td>155</td>\n",
       "      <td>42</td>\n",
       "      <td>6</td>\n",
       "      <td>13</td>\n",
       "      <td>99</td>\n",
       "      <td>0.228814</td>\n",
       "      <td>0.327331</td>\n",
       "    </tr>\n",
       "    <tr>\n",
       "      <th>aasedo01</th>\n",
       "      <td>0</td>\n",
       "      <td>5</td>\n",
       "      <td>0</td>\n",
       "      <td>0</td>\n",
       "      <td>0</td>\n",
       "      <td>0</td>\n",
       "      <td>0</td>\n",
       "      <td>0.000000</td>\n",
       "      <td>0.000000</td>\n",
       "    </tr>\n",
       "    <tr>\n",
       "      <th>abadan01</th>\n",
       "      <td>2</td>\n",
       "      <td>21</td>\n",
       "      <td>2</td>\n",
       "      <td>0</td>\n",
       "      <td>0</td>\n",
       "      <td>0</td>\n",
       "      <td>1</td>\n",
       "      <td>0.095238</td>\n",
       "      <td>0.095238</td>\n",
       "    </tr>\n",
       "  </tbody>\n",
       "</table>\n",
       "</div>"
      ],
      "text/plain": [
       "              H     AB  singles  doubles  triples   HR     R        BA  \\\n",
       "ID                                                                       \n",
       "aardsda01     0      4        0        0        0    0     0  0.000000   \n",
       "aaronha01  3703  12121     2253      614       96  740  2128  0.305503   \n",
       "aaronto01   216    944      155       42        6   13    99  0.228814   \n",
       "aasedo01      0      5        0        0        0    0     0  0.000000   \n",
       "abadan01      2     21        2        0        0    0     1  0.095238   \n",
       "\n",
       "               slug  \n",
       "ID                   \n",
       "aardsda01  0.000000  \n",
       "aaronha01  0.555152  \n",
       "aaronto01  0.327331  \n",
       "aasedo01   0.000000  \n",
       "abadan01   0.095238  "
      ]
     },
     "execution_count": 81,
     "metadata": {},
     "output_type": "execute_result"
    }
   ],
   "source": [
    "player['BA'] = player.H/player.AB\n",
    "player['slug'] = (player.singles + 2*player.doubles + 3*player.triples + 4*player.HR)/player.AB\n",
    "player.head() "
   ]
  },
  {
   "cell_type": "markdown",
   "id": "0fcde1b3",
   "metadata": {},
   "source": [
    "From the head of this dataframe, we see that some players had very few at bats in this dataset, which will create some noisy data.  I will restrict the data to players with a minimum of 100 at-bats to address this issue.  Given that a player must have 502 plate appearances in a season to be considered for a batting title (highest batting average in the league), this does not seem unreasonable.  "
   ]
  },
  {
   "cell_type": "code",
   "execution_count": 82,
   "id": "c37aeb1a",
   "metadata": {},
   "outputs": [],
   "source": [
    "player = player[player.AB > 99]"
   ]
  },
  {
   "cell_type": "code",
   "execution_count": 83,
   "id": "5cf35d44",
   "metadata": {},
   "outputs": [],
   "source": [
    "slug = player.slug.values\n",
    "runs = player.R.values"
   ]
  },
  {
   "cell_type": "code",
   "execution_count": 84,
   "id": "1294ad6b",
   "metadata": {},
   "outputs": [
    {
     "data": {
      "image/png": "[encoded data removed]",
      "text/plain": [
       "<Figure size 432x288 with 1 Axes>"
      ]
     },
     "metadata": {
      "needs_background": "light"
     },
     "output_type": "display_data"
    }
   ],
   "source": [
    "import matplotlib.pyplot as plt\n",
    "\n",
    "plt.scatter(slug, runs)\n",
    "plt.show()"
   ]
  },
  {
   "cell_type": "markdown",
   "id": "cdcbe48b",
   "metadata": {},
   "source": [
    "This scatterplot doesn't clearly display the relationship between slugging percentage and runs because the number of runs that a player scores in their career is also a function of the number of at-bats.  Thus, even though we limited the dataset to players with at least 100 at-bats, there is still a large disrepancy in the number of at-bats in the dataset, as can be seen below."
   ]
  },
  {
   "cell_type": "code",
   "execution_count": 85,
   "id": "5c50cf4d",
   "metadata": {},
   "outputs": [
    {
     "data": {
      "text/plain": [
       "100      24\n",
       "101      27\n",
       "102      19\n",
       "103      24\n",
       "104      22\n",
       "         ..\n",
       "11438     1\n",
       "11551     1\n",
       "11988     1\n",
       "12121     1\n",
       "14053     1\n",
       "Name: AB, Length: 3419, dtype: int64"
      ]
     },
     "execution_count": 85,
     "metadata": {},
     "output_type": "execute_result"
    }
   ],
   "source": [
    "player.AB.value_counts().sort_index()"
   ]
  },
  {
   "cell_type": "markdown",
   "id": "16fe1eb6",
   "metadata": {},
   "source": [
    "To address this issue, I will normalize the number of runs using the number of at-bats.  This will put runs and slugging percentage on the same scale, as sluggling percentage is also normalized by the number of at-bats."
   ]
  },
  {
   "cell_type": "code",
   "execution_count": 86,
   "id": "7ecb703e",
   "metadata": {},
   "outputs": [],
   "source": [
    "player['R_norm'] = player.R/player.AB\n",
    "runs = player.R_norm.values"
   ]
  },
  {
   "cell_type": "code",
   "execution_count": 87,
   "id": "be560c79",
   "metadata": {},
   "outputs": [
    {
     "data": {
      "image/png": "[encoded data removed]",
      "text/plain": [
       "<Figure size 432x288 with 1 Axes>"
      ]
     },
     "metadata": {
      "needs_background": "light"
     },
     "output_type": "display_data"
    }
   ],
   "source": [
    "plt.scatter(slug, runs)\n",
    "plt.title(\"Slugging Percentage vs. Runs Scored\")\n",
    "plt.xlabel(\"Slugging Percentage\")\n",
    "plt.ylabel(\"Normalized Runs Scored\")\n",
    "plt.show()"
   ]
  },
  {
   "cell_type": "code",
   "execution_count": 88,
   "id": "010a3338",
   "metadata": {},
   "outputs": [
    {
     "data": {
      "text/plain": [
       "(0.8093559672699049, 0.0)"
      ]
     },
     "execution_count": 88,
     "metadata": {},
     "output_type": "execute_result"
    }
   ],
   "source": [
    "import scipy\n",
    "scipy.stats.pearsonr(slug,runs)"
   ]
  },
  {
   "cell_type": "markdown",
   "id": "ef901acc",
   "metadata": {},
   "source": [
    "This scatterplot depicts a strong positive relationship between these variables, which is quantified with a Pearson correlation coefficient of 0.81.  For context, I generate the scatterplot of batting average and runs scored, and the correlation coefficient for these variables below."
   ]
  },
  {
   "cell_type": "code",
   "execution_count": 89,
   "id": "35016f30",
   "metadata": {},
   "outputs": [],
   "source": [
    "batting_avg = player.BA.values"
   ]
  },
  {
   "cell_type": "code",
   "execution_count": 90,
   "id": "693bac2c",
   "metadata": {},
   "outputs": [
    {
     "data": {
      "image/png": "[encoded data removed]",
      "text/plain": [
       "<Figure size 432x288 with 1 Axes>"
      ]
     },
     "metadata": {
      "needs_background": "light"
     },
     "output_type": "display_data"
    }
   ],
   "source": [
    "plt.scatter(batting_avg, runs)\n",
    "plt.title(\"Batting Average vs. Runs Scored\")\n",
    "plt.xlabel(\"Batting Average\")\n",
    "plt.ylabel(\"Normalized Runs Scored\")\n",
    "plt.show()"
   ]
  },
  {
   "cell_type": "code",
   "execution_count": 91,
   "id": "f483a1fd",
   "metadata": {},
   "outputs": [
    {
     "data": {
      "text/plain": [
       "(0.7642475709788003, 0.0)"
      ]
     },
     "execution_count": 91,
     "metadata": {},
     "output_type": "execute_result"
    }
   ],
   "source": [
    "scipy.stats.pearsonr(batting_avg, runs)"
   ]
  },
  {
   "cell_type": "markdown",
   "id": "7c7ab277",
   "metadata": {},
   "source": [
    "For comparison, the correlation coefficient for normalized runs scored and batting average is 0.76, so batting average is not a highly correlated with runs scored as slugging percentage is.  "
   ]
  },
  {
   "cell_type": "markdown",
   "id": "49a0b81b",
   "metadata": {},
   "source": [
    "# Regression Models"
   ]
  },
  {
   "cell_type": "markdown",
   "id": "0de84dd4",
   "metadata": {},
   "source": [
    "Having examined the relationship between runs scored and slugging percentage, and between runs scored and batting average, I now create a simple linear regression model for each."
   ]
  },
  {
   "cell_type": "markdown",
   "id": "6b79764a",
   "metadata": {},
   "source": [
    "### Generating the Least Squares regression line for slugging percentage"
   ]
  },
  {
   "cell_type": "code",
   "execution_count": 92,
   "id": "f13e6092",
   "metadata": {},
   "outputs": [],
   "source": [
    "def LeastSquares(x, y):\n",
    "    x_bar = np.mean(x)\n",
    "    y_bar = np.mean(y)\n",
    "    n = len(x)\n",
    "    num = 0\n",
    "    denom = 0\n",
    "    for i in range(n):\n",
    "        num += (x[i] - x_bar)*(y[i] - y_bar)\n",
    "        denom += (x[i] - x_bar)**2\n",
    "        m = num/denom\n",
    "        b = y_bar - (m*x_bar)\n",
    "    return(m, b)"
   ]
  },
  {
   "cell_type": "code",
   "execution_count": 93,
   "id": "f86c56b7",
   "metadata": {},
   "outputs": [
    {
     "name": "stdout",
     "output_type": "stream",
     "text": [
      "Slope = 0.2951748853414154\n",
      "y-intercept = 0.0105200520494627\n"
     ]
    }
   ],
   "source": [
    "m = LeastSquares(slug,runs)[0]\n",
    "print('Slope =', m)\n",
    "b = LeastSquares(slug,runs)[1]\n",
    "print('y-intercept =', b)\n",
    "y_slug = b + m * slug"
   ]
  },
  {
   "cell_type": "markdown",
   "id": "3fcfef34",
   "metadata": {},
   "source": [
    "Generate R squared for the model"
   ]
  },
  {
   "cell_type": "code",
   "execution_count": 94,
   "id": "e282b493",
   "metadata": {},
   "outputs": [
    {
     "data": {
      "text/plain": [
       "0.6550570817554033"
      ]
     },
     "execution_count": 94,
     "metadata": {},
     "output_type": "execute_result"
    }
   ],
   "source": [
    "from sklearn.metrics import r2_score\n",
    "r2_score(runs, y_slug)"
   ]
  },
  {
   "cell_type": "code",
   "execution_count": 95,
   "id": "636c2c37",
   "metadata": {},
   "outputs": [
    {
     "data": {
      "image/png": "[encoded data removed]",
      "text/plain": [
       "<Figure size 432x288 with 1 Axes>"
      ]
     },
     "metadata": {
      "needs_background": "light"
     },
     "output_type": "display_data"
    }
   ],
   "source": [
    "#  Plotting Values and Regression Line\n",
    " \n",
    "max_x = np.max(slug) + .1\n",
    "min_x = np.min(slug) - .1\n",
    " \n",
    "# Calculating line values x and y\n",
    "x = np.linspace(min_x, max_x, 15)\n",
    "y = b + m * x\n",
    " \n",
    "# Ploting Line\n",
    "plt.plot(x, y, color='red', label='Regression Line')\n",
    "# Ploting Scatter Points\n",
    "plt.scatter(slug, runs, c='blue', label='Scatter Plot')\n",
    " \n",
    "plt.xlabel('Slugging Percentage')\n",
    "plt.ylabel('Runs Scored (normalized)')\n",
    "plt.legend()\n",
    "plt.show()"
   ]
  },
  {
   "cell_type": "markdown",
   "id": "7d90bb7f",
   "metadata": {},
   "source": [
    "This model predicts that when slugging percentage is 0, then the normalized runs scored will be very close to 0 as well, which makes sense.  In addition, when slugging percentage increases by 1, normalized runs scored will increase by .295.  However, the range of values for slugging percentage is between 0 and 0.8, so it might be better to interpret the model in terms of a 0.1 increase in slugging percentage, or a 10% increase, which translates to an increase of .0295 normalized runs scored. This means an increase of about .03 runs scored per at-bat for every 10% increase in slugging percentage.  For context, the highest runs scored per at-bat in the dataset is around .25, associated with a slugging percentage of around .700.  Finally, the R squared value indicates that slugging percentage explains about 65.5% of the variability in runs scored."
   ]
  },
  {
   "cell_type": "markdown",
   "id": "05805b89",
   "metadata": {},
   "source": [
    "### Generate the Least Squares regression line for batting average"
   ]
  },
  {
   "cell_type": "code",
   "execution_count": 96,
   "id": "ac739152",
   "metadata": {},
   "outputs": [
    {
     "name": "stdout",
     "output_type": "stream",
     "text": [
      "Slope = 0.521375612786826\n",
      "y-intercept = -0.01241675116429504\n"
     ]
    }
   ],
   "source": [
    "m = LeastSquares(batting_avg,runs)[0]\n",
    "print('Slope =', m)\n",
    "b = LeastSquares(batting_avg,runs)[1]\n",
    "print('y-intercept =', b)\n",
    "y_batting = b + m*batting_avg"
   ]
  },
  {
   "cell_type": "markdown",
   "id": "9f0ec7f3",
   "metadata": {},
   "source": [
    "Generate R squared for the model"
   ]
  },
  {
   "cell_type": "code",
   "execution_count": 97,
   "id": "b7b424fe",
   "metadata": {},
   "outputs": [
    {
     "data": {
      "text/plain": [
       "0.5840743497469963"
      ]
     },
     "execution_count": 97,
     "metadata": {},
     "output_type": "execute_result"
    }
   ],
   "source": [
    "r2_score(runs, y_batting)"
   ]
  },
  {
   "cell_type": "code",
   "execution_count": 98,
   "id": "273ef252",
   "metadata": {},
   "outputs": [
    {
     "data": {
      "image/png": "[encoded data removed]",
      "text/plain": [
       "<Figure size 432x288 with 1 Axes>"
      ]
     },
     "metadata": {
      "needs_background": "light"
     },
     "output_type": "display_data"
    }
   ],
   "source": [
    "max_x = np.max(batting_avg) + .1\n",
    "min_x = np.min(batting_avg) - .1\n",
    " \n",
    "# Calculating line values x and y\n",
    "x = np.linspace(min_x, max_x, 15)\n",
    "y = b + m * x\n",
    " \n",
    "# Ploting Line\n",
    "plt.plot(x, y, color='red', label='Regression Line')\n",
    "# Ploting Scatter Points\n",
    "plt.scatter(batting_avg, runs, c='blue', label='Scatter Plot')\n",
    " \n",
    "plt.xlabel('Batting Average')\n",
    "plt.ylabel('Runs Scored (normalized)')\n",
    "plt.legend()\n",
    "plt.show()"
   ]
  },
  {
   "cell_type": "markdown",
   "id": "b2f7845b",
   "metadata": {},
   "source": [
    "Similar to the model for slugging percentage, the model for batting average predicts that when batting average is 0, then the normalized runs scored will be very close to 0 as well, which also makes sense as slugging percentage is the same as batting average but weighted by the number of bases netted by a hit.  In this model, when batting average increases by 1, normalized runs scored will increase by .521.  However, the range of values for batting average is much tighter, between 0 and 0.350.  This means an increase of about .05 runs scored per at-bat for every 10% increase in batting average, but the highest runs scored per at-bat in the dataset is around .25, associated with a batting average of around .350, which is about half of the largest slugging percentage.  Finally, batting average accounts for about 58.4% of the variability in runs scored."
   ]
  },
  {
   "cell_type": "markdown",
   "id": "73e91b7c",
   "metadata": {},
   "source": [
    "## Hypothesis Testing"
   ]
  },
  {
   "cell_type": "markdown",
   "id": "4aa44d43",
   "metadata": {},
   "source": [
    "From the dataframe aggregated by position, firstbasemen have a higher slugging percentage, isolated power, and home run percentage than other position players.  The question is whether the difference in statistically significant.  To answer that question, we will perform a hypothesis test, but first I need to determine my test statistics.  \n",
    "\n",
    "Given that the above percentages are already aggregated by position, we lose information about the size of the sample, i.e., the sensitivity of the hypothesis test is affected by the sample size, and thus the aggregated metrics depicted above won't work.  Another thought is to calculate each of these metrics by player by game, but that data would be very noisy.  As we have seen, the mode for any type of hit is 0, and the mode for at-bats is 4.  As all of these metrics are normalized by the number of at-bats, these metrics would tend to vary wildly from game to game due to the small sample size per player per game.  \n",
    "\n",
    "Instead, I will use the mean of the numerator of these metrics as my test statistic.  For slugging percentage, this is just the number bases gained by hits in a game, i.e. singles + 2* doubles + 3* triples + 4* home runs.  For isolated power it is the same, but without the singles.  For home run percentage, we will just use the number of home runs.  The hypothesis test will do the aggregation when computing the means.\n",
    "\n",
    "Finally, in order to do a two sample hypothesis test, I will aggregate the dataframe by firstbasemen and all other field players, i.e., excluding pitchers, and run a hypothesis test on these metrics."
   ]
  },
  {
   "cell_type": "markdown",
   "id": "fa98743d",
   "metadata": {},
   "source": [
    "### Hypothesis for Testing Difference of Means"
   ]
  },
  {
   "cell_type": "markdown",
   "id": "360ca263",
   "metadata": {},
   "source": [
    "I begin by creating the number of bases due to hits and the number of extra bases (number of bases due to hits without singles)  in the original dataset (note that the number of home runs is already in the dataset)"
   ]
  },
  {
   "cell_type": "code",
   "execution_count": 99,
   "id": "b8a42ee0",
   "metadata": {},
   "outputs": [
    {
     "data": {
      "text/html": [
       "<div>\n",
       "<style scoped>\n",
       "    .dataframe tbody tr th:only-of-type {\n",
       "        vertical-align: middle;\n",
       "    }\n",
       "\n",
       "    .dataframe tbody tr th {\n",
       "        vertical-align: top;\n",
       "    }\n",
       "\n",
       "    .dataframe thead th {\n",
       "        text-align: right;\n",
       "    }\n",
       "</style>\n",
       "<table border=\"1\" class=\"dataframe\">\n",
       "  <thead>\n",
       "    <tr style=\"text-align: right;\">\n",
       "      <th></th>\n",
       "      <th>ID</th>\n",
       "      <th>Player</th>\n",
       "      <th>Date</th>\n",
       "      <th>Tm</th>\n",
       "      <th>Opp</th>\n",
       "      <th>Rslt</th>\n",
       "      <th>PA</th>\n",
       "      <th>AB</th>\n",
       "      <th>R</th>\n",
       "      <th>H</th>\n",
       "      <th>...</th>\n",
       "      <th>WPA</th>\n",
       "      <th>RE24</th>\n",
       "      <th>aLI</th>\n",
       "      <th>BOP</th>\n",
       "      <th>position</th>\n",
       "      <th>DFS(DK)</th>\n",
       "      <th>DFS(FD)</th>\n",
       "      <th>1B</th>\n",
       "      <th>bases</th>\n",
       "      <th>Xbases</th>\n",
       "    </tr>\n",
       "  </thead>\n",
       "  <tbody>\n",
       "    <tr>\n",
       "      <th>0</th>\n",
       "      <td>crossmo01</td>\n",
       "      <td>Monte Cross</td>\n",
       "      <td>1901-04-18</td>\n",
       "      <td>PHI</td>\n",
       "      <td>BRO</td>\n",
       "      <td>L 7-12</td>\n",
       "      <td>5</td>\n",
       "      <td>4</td>\n",
       "      <td>2</td>\n",
       "      <td>2</td>\n",
       "      <td>...</td>\n",
       "      <td>NaN</td>\n",
       "      <td>NaN</td>\n",
       "      <td>NaN</td>\n",
       "      <td>8</td>\n",
       "      <td>SS</td>\n",
       "      <td>NaN</td>\n",
       "      <td>NaN</td>\n",
       "      <td>1</td>\n",
       "      <td>3</td>\n",
       "      <td>2</td>\n",
       "    </tr>\n",
       "    <tr>\n",
       "      <th>1</th>\n",
       "      <td>dahlebi01</td>\n",
       "      <td>Bill Dahlen</td>\n",
       "      <td>1901-04-18</td>\n",
       "      <td>BRO</td>\n",
       "      <td>PHI</td>\n",
       "      <td>W 12-7</td>\n",
       "      <td>5</td>\n",
       "      <td>4</td>\n",
       "      <td>2</td>\n",
       "      <td>3</td>\n",
       "      <td>...</td>\n",
       "      <td>NaN</td>\n",
       "      <td>NaN</td>\n",
       "      <td>NaN</td>\n",
       "      <td>7</td>\n",
       "      <td>SS</td>\n",
       "      <td>NaN</td>\n",
       "      <td>NaN</td>\n",
       "      <td>3</td>\n",
       "      <td>3</td>\n",
       "      <td>0</td>\n",
       "    </tr>\n",
       "    <tr>\n",
       "      <th>2</th>\n",
       "      <td>dalyto01</td>\n",
       "      <td>Tom Daly</td>\n",
       "      <td>1901-04-18</td>\n",
       "      <td>BRO</td>\n",
       "      <td>PHI</td>\n",
       "      <td>W 12-7</td>\n",
       "      <td>5</td>\n",
       "      <td>5</td>\n",
       "      <td>1</td>\n",
       "      <td>2</td>\n",
       "      <td>...</td>\n",
       "      <td>NaN</td>\n",
       "      <td>NaN</td>\n",
       "      <td>NaN</td>\n",
       "      <td>6</td>\n",
       "      <td>2B</td>\n",
       "      <td>NaN</td>\n",
       "      <td>NaN</td>\n",
       "      <td>1</td>\n",
       "      <td>3</td>\n",
       "      <td>2</td>\n",
       "    </tr>\n",
       "    <tr>\n",
       "      <th>3</th>\n",
       "      <td>davisle01</td>\n",
       "      <td>Lefty Davis</td>\n",
       "      <td>1901-04-18</td>\n",
       "      <td>BRO</td>\n",
       "      <td>PHI</td>\n",
       "      <td>W 12-7</td>\n",
       "      <td>5</td>\n",
       "      <td>5</td>\n",
       "      <td>1</td>\n",
       "      <td>1</td>\n",
       "      <td>...</td>\n",
       "      <td>NaN</td>\n",
       "      <td>NaN</td>\n",
       "      <td>NaN</td>\n",
       "      <td>1</td>\n",
       "      <td>LF</td>\n",
       "      <td>NaN</td>\n",
       "      <td>NaN</td>\n",
       "      <td>1</td>\n",
       "      <td>1</td>\n",
       "      <td>0</td>\n",
       "    </tr>\n",
       "    <tr>\n",
       "      <th>4</th>\n",
       "      <td>delahed01</td>\n",
       "      <td>Ed Delahanty</td>\n",
       "      <td>1901-04-18</td>\n",
       "      <td>PHI</td>\n",
       "      <td>BRO</td>\n",
       "      <td>L 7-12</td>\n",
       "      <td>5</td>\n",
       "      <td>4</td>\n",
       "      <td>1</td>\n",
       "      <td>2</td>\n",
       "      <td>...</td>\n",
       "      <td>NaN</td>\n",
       "      <td>NaN</td>\n",
       "      <td>NaN</td>\n",
       "      <td>3</td>\n",
       "      <td>1B</td>\n",
       "      <td>NaN</td>\n",
       "      <td>NaN</td>\n",
       "      <td>2</td>\n",
       "      <td>2</td>\n",
       "      <td>0</td>\n",
       "    </tr>\n",
       "  </tbody>\n",
       "</table>\n",
       "<p>5 rows × 34 columns</p>\n",
       "</div>"
      ],
      "text/plain": [
       "          ID        Player        Date   Tm  Opp    Rslt  PA  AB  R  H  ...  \\\n",
       "0  crossmo01   Monte Cross  1901-04-18  PHI  BRO  L 7-12   5   4  2  2  ...   \n",
       "1  dahlebi01   Bill Dahlen  1901-04-18  BRO  PHI  W 12-7   5   4  2  3  ...   \n",
       "2   dalyto01      Tom Daly  1901-04-18  BRO  PHI  W 12-7   5   5  1  2  ...   \n",
       "3  davisle01   Lefty Davis  1901-04-18  BRO  PHI  W 12-7   5   5  1  1  ...   \n",
       "4  delahed01  Ed Delahanty  1901-04-18  PHI  BRO  L 7-12   5   4  1  2  ...   \n",
       "\n",
       "   WPA  RE24  aLI  BOP  position  DFS(DK)  DFS(FD)  1B  bases  Xbases  \n",
       "0  NaN   NaN  NaN    8        SS      NaN      NaN   1      3       2  \n",
       "1  NaN   NaN  NaN    7        SS      NaN      NaN   3      3       0  \n",
       "2  NaN   NaN  NaN    6        2B      NaN      NaN   1      3       2  \n",
       "3  NaN   NaN  NaN    1        LF      NaN      NaN   1      1       0  \n",
       "4  NaN   NaN  NaN    3        1B      NaN      NaN   2      2       0  \n",
       "\n",
       "[5 rows x 34 columns]"
      ]
     },
     "execution_count": 99,
     "metadata": {},
     "output_type": "execute_result"
    }
   ],
   "source": [
    "bb['bases'] = bb['1B'] + 2*bb['2B'] + 3*bb['3B'] + 4*bb['HR']\n",
    "bb['Xbases'] =  2*bb['2B'] + 3*bb['3B'] + 4*bb['HR']\n",
    "bb.head()"
   ]
  },
  {
   "cell_type": "markdown",
   "id": "82404976",
   "metadata": {},
   "source": [
    "I now split out my dataframe by position again, i.e., firstbasemen and field players (without pitchers)."
   ]
  },
  {
   "cell_type": "code",
   "execution_count": 100,
   "id": "c85a0625",
   "metadata": {},
   "outputs": [],
   "source": [
    "firstbase = bb[bb.position == '1B']\n",
    "others = bb[(bb['position'] == '2B') | (bb['position'] == '3B')  | (bb['position'] == 'SS')  | (bb['position'] == 'LF')  | (bb['position'] == 'CF')  | (bb['position'] == 'RF')  | (bb['position'] == 'C')]"
   ]
  },
  {
   "cell_type": "code",
   "execution_count": 101,
   "id": "bb69b0e6",
   "metadata": {},
   "outputs": [],
   "source": [
    "class DiffMeansPermute(thinkstats2.HypothesisTest):\n",
    "\n",
    "    def TestStatistic(self, data):\n",
    "        group1, group2 = data\n",
    "        test_stat = abs(group1.mean() - group2.mean())\n",
    "        return test_stat\n",
    "\n",
    "    def MakeModel(self):\n",
    "        group1, group2 = self.data\n",
    "        self.n, self.m = len(group1), len(group2)\n",
    "        self.pool = np.hstack((group1, group2))\n",
    "\n",
    "    def RunModel(self):\n",
    "        np.random.shuffle(self.pool)\n",
    "        data = self.pool[:self.n], self.pool[self.n:]\n",
    "        return data"
   ]
  },
  {
   "cell_type": "markdown",
   "id": "62008009",
   "metadata": {},
   "source": [
    "#### Testing the Difference of Means of Total Bases"
   ]
  },
  {
   "cell_type": "code",
   "execution_count": 102,
   "id": "d50624c4",
   "metadata": {},
   "outputs": [
    {
     "data": {
      "text/plain": [
       "0.0"
      ]
     },
     "execution_count": 102,
     "metadata": {},
     "output_type": "execute_result"
    }
   ],
   "source": [
    "data = firstbase.bases.values, others.bases.values\n",
    "ht = DiffMeansPermute(data)\n",
    "pvalue = ht.PValue()\n",
    "pvalue"
   ]
  },
  {
   "cell_type": "markdown",
   "id": "06308e07",
   "metadata": {},
   "source": [
    "The p-value indicates that the probability of the difference between in mean total bases between the two groups being due to chance is 0.  "
   ]
  },
  {
   "cell_type": "code",
   "execution_count": 103,
   "id": "0adb70e1",
   "metadata": {},
   "outputs": [
    {
     "data": {
      "image/png": "[encoded data removed]",
      "text/plain": [
       "<Figure size 432x288 with 1 Axes>"
      ]
     },
     "metadata": {
      "needs_background": "light"
     },
     "output_type": "display_data"
    }
   ],
   "source": [
    "ht.PlotCdf()\n",
    "thinkplot.Config(xlabel='test statistic',\n",
    "                   ylabel='CDF')"
   ]
  },
  {
   "cell_type": "markdown",
   "id": "91423084",
   "metadata": {},
   "source": [
    "Since we know that first basemen have a higher slugging percentage than other field players, we conduct a one-way hypopthesis test to test the more specific hypothesis that the mean for first basemen is larger (vs. just being different) than other field players"
   ]
  },
  {
   "cell_type": "code",
   "execution_count": 104,
   "id": "9b7b13eb",
   "metadata": {},
   "outputs": [],
   "source": [
    "class DiffMeansOneSided(DiffMeansPermute):\n",
    "\n",
    "    def TestStatistic(self, data):\n",
    "        group1, group2 = data\n",
    "        test_stat = group1.mean() - group2.mean()\n",
    "        return test_stat"
   ]
  },
  {
   "cell_type": "code",
   "execution_count": 105,
   "id": "e25bd569",
   "metadata": {},
   "outputs": [
    {
     "data": {
      "text/plain": [
       "0.0"
      ]
     },
     "execution_count": 105,
     "metadata": {},
     "output_type": "execute_result"
    }
   ],
   "source": [
    "ht = DiffMeansOneSided(data)\n",
    "pvalue = ht.PValue()\n",
    "pvalue"
   ]
  },
  {
   "cell_type": "markdown",
   "id": "437e9060",
   "metadata": {},
   "source": [
    "The p-value for the one-sided hypothesis test is also 0, confirming that first basemen tend to net more bases on hits than other field players as a group."
   ]
  },
  {
   "cell_type": "markdown",
   "id": "169a63a4",
   "metadata": {},
   "source": [
    "#### Testing the Difference of Means of Extra Bases"
   ]
  },
  {
   "cell_type": "code",
   "execution_count": 106,
   "id": "35ee6d93",
   "metadata": {},
   "outputs": [
    {
     "data": {
      "text/plain": [
       "0.0"
      ]
     },
     "execution_count": 106,
     "metadata": {},
     "output_type": "execute_result"
    }
   ],
   "source": [
    "data = firstbase.Xbases.values, others.Xbases.values\n",
    "ht = DiffMeansPermute(data)\n",
    "pvalue = ht.PValue()\n",
    "pvalue"
   ]
  },
  {
   "cell_type": "markdown",
   "id": "1711ccbe",
   "metadata": {},
   "source": [
    "The p-value indicates that the probability of the difference between in mean extra bases between the two groups being due to chance is 0. "
   ]
  },
  {
   "cell_type": "code",
   "execution_count": 107,
   "id": "565335f3",
   "metadata": {},
   "outputs": [
    {
     "data": {
      "image/png": "[encoded data removed]",
      "text/plain": [
       "<Figure size 432x288 with 1 Axes>"
      ]
     },
     "metadata": {
      "needs_background": "light"
     },
     "output_type": "display_data"
    }
   ],
   "source": [
    "ht.PlotCdf()\n",
    "thinkplot.Config(xlabel='test statistic',\n",
    "                   ylabel='CDF')"
   ]
  },
  {
   "cell_type": "markdown",
   "id": "d8768fa0",
   "metadata": {},
   "source": [
    "Since we know that first basemen have a higher isolated power than other field players, we conduct a one-way hypopthesis test to test the more specific hypothesis that the mean for first basemen is larger (vs. just being different) than other field players"
   ]
  },
  {
   "cell_type": "code",
   "execution_count": 108,
   "id": "ad2973f1",
   "metadata": {},
   "outputs": [
    {
     "data": {
      "text/plain": [
       "0.0"
      ]
     },
     "execution_count": 108,
     "metadata": {},
     "output_type": "execute_result"
    }
   ],
   "source": [
    "ht = DiffMeansOneSided(data)\n",
    "pvalue = ht.PValue()\n",
    "pvalue"
   ]
  },
  {
   "cell_type": "markdown",
   "id": "586348e0",
   "metadata": {},
   "source": [
    "The p-value for the one-sided hypothesis test is also 0, confirming that first basemen tend to hit more extra base hits than other field players as a group."
   ]
  },
  {
   "cell_type": "markdown",
   "id": "48f2e384",
   "metadata": {},
   "source": [
    "#### Testing the Difference of Means of Home Runs"
   ]
  },
  {
   "cell_type": "code",
   "execution_count": 109,
   "id": "8df4bad6",
   "metadata": {},
   "outputs": [
    {
     "data": {
      "text/plain": [
       "0.0"
      ]
     },
     "execution_count": 109,
     "metadata": {},
     "output_type": "execute_result"
    }
   ],
   "source": [
    "data = firstbase.HR.values, others.HR.values\n",
    "ht = DiffMeansPermute(data)\n",
    "pvalue = ht.PValue()\n",
    "pvalue"
   ]
  },
  {
   "cell_type": "markdown",
   "id": "d59f19a5",
   "metadata": {},
   "source": [
    "The p-value indicates that the probability of the difference between in mean home runs between the two groups being due to chance is 0. "
   ]
  },
  {
   "cell_type": "code",
   "execution_count": 110,
   "id": "7726f5fd",
   "metadata": {},
   "outputs": [
    {
     "data": {
      "image/png": "[encoded data removed]",
      "text/plain": [
       "<Figure size 432x288 with 1 Axes>"
      ]
     },
     "metadata": {
      "needs_background": "light"
     },
     "output_type": "display_data"
    }
   ],
   "source": [
    "ht.PlotCdf()\n",
    "thinkplot.Config(xlabel='test statistic',\n",
    "                   ylabel='CDF')"
   ]
  },
  {
   "cell_type": "markdown",
   "id": "b153763a",
   "metadata": {},
   "source": [
    "Since we know that first basemen have a higher isolated power than other field players, we conduct a one-way hypopthesis test to test the more specific hypothesis that the mean for first basemen is larger (vs. just being different) than other field players"
   ]
  },
  {
   "cell_type": "code",
   "execution_count": 111,
   "id": "e64eff72",
   "metadata": {},
   "outputs": [
    {
     "data": {
      "text/plain": [
       "0.0"
      ]
     },
     "execution_count": 111,
     "metadata": {},
     "output_type": "execute_result"
    }
   ],
   "source": [
    "ht = DiffMeansOneSided(data)\n",
    "pvalue = ht.PValue()\n",
    "pvalue"
   ]
  },
  {
   "cell_type": "markdown",
   "id": "c43b00b4",
   "metadata": {},
   "source": [
    "The p-value for the one-sided hypothesis test is also 0, confirming that first basemen tend to hit more home runs than other field players as a group."
   ]
  },
  {
   "cell_type": "markdown",
   "id": "69970dcf",
   "metadata": {},
   "source": [
    "## Analytic Distribution of Slugging Percentage"
   ]
  },
  {
   "cell_type": "markdown",
   "id": "aeec11bd",
   "metadata": {},
   "source": [
    "Below I examine whether the distribution of slugging percentage among players in this dataset is normal."
   ]
  },
  {
   "cell_type": "code",
   "execution_count": 112,
   "id": "0e4811eb",
   "metadata": {},
   "outputs": [
    {
     "data": {
      "image/png": "[encoded data removed]",
      "text/plain": [
       "<Figure size 432x288 with 1 Axes>"
      ]
     },
     "metadata": {
      "needs_background": "light"
     },
     "output_type": "display_data"
    }
   ],
   "source": [
    "xs, ys = thinkstats2.NormalProbability(slug)\n",
    "thinkplot.Plot(xs, ys, label='Slugging Percentage')"
   ]
  },
  {
   "cell_type": "code",
   "execution_count": 113,
   "id": "76e7d296",
   "metadata": {},
   "outputs": [],
   "source": [
    "def MakeNormalPlot(values):\n",
    "    mean = values.mean()\n",
    "    std = values.std()\n",
    "    xs = [-4, 4]\n",
    "    fxs, fys = thinkstats2.FitLine(xs, inter=mean, slope=std)\n",
    "    thinkplot.Plot(fxs, fys, color='gray', label='model')"
   ]
  },
  {
   "cell_type": "code",
   "execution_count": 114,
   "id": "41044528",
   "metadata": {},
   "outputs": [
    {
     "data": {
      "image/png": "[encoded data removed]",
      "text/plain": [
       "<Figure size 432x288 with 1 Axes>"
      ]
     },
     "metadata": {
      "needs_background": "light"
     },
     "output_type": "display_data"
    }
   ],
   "source": [
    "MakeNormalPlot(slug)\n",
    "thinkplot.Plot(xs, ys, label='Slugging Percentage')"
   ]
  },
  {
   "cell_type": "markdown",
   "id": "e7468de0",
   "metadata": {},
   "source": [
    "Slugging percentage seems to be approximately normal, with the exception of the tails of the distribution. The left in particular seems to deviate from a normal distribution.  One explanation is that observations at both ends of the distribution are associated with players with fewer at-bats, and thus are deviate from what is expected by an anlytic distribution.  Note that we have already filtered out players with fewer than 100 at-bats in their career for this reason.  Below I look at the distribution of at-bats by player to see if further raising the threshold for number of at-bats is warranted."
   ]
  },
  {
   "cell_type": "code",
   "execution_count": 115,
   "id": "b5c589de",
   "metadata": {},
   "outputs": [
    {
     "data": {
      "image/png": "[encoded data removed]",
      "text/plain": [
       "<Figure size 432x288 with 1 Axes>"
      ]
     },
     "metadata": {
      "needs_background": "light"
     },
     "output_type": "display_data"
    }
   ],
   "source": [
    "AB = player.AB.values\n",
    "xs, ys = thinkstats2.NormalProbability(AB)\n",
    "thinkplot.Plot(xs, ys, label='At Bats')"
   ]
  },
  {
   "cell_type": "code",
   "execution_count": 116,
   "id": "07d18e55",
   "metadata": {},
   "outputs": [
    {
     "data": {
      "image/png": "[encoded data removed]",
      "text/plain": [
       "<Figure size 432x288 with 1 Axes>"
      ]
     },
     "metadata": {
      "needs_background": "light"
     },
     "output_type": "display_data"
    }
   ],
   "source": [
    "MakeNormalPlot(AB)\n",
    "thinkplot.Plot(xs, ys, label='At Bats')"
   ]
  },
  {
   "cell_type": "markdown",
   "id": "2f039710",
   "metadata": {},
   "source": [
    "At bats are not normally distributed, but are extremely positively skewed.  As we noted in the CDF of at-bats, 80% of players in this data (or approximately 13k players) had fewer than 2000 at-bats, while the other 20% (or 3k players) had between 2000 and 14000 at-bats. Below we investigate the distribution of at-bats further."
   ]
  },
  {
   "cell_type": "code",
   "execution_count": 117,
   "id": "c271131e",
   "metadata": {},
   "outputs": [
    {
     "data": {
      "text/plain": [
       "count     8226.000000\n",
       "mean      1654.731947\n",
       "std       2033.152061\n",
       "min        100.000000\n",
       "25%        267.000000\n",
       "50%        725.500000\n",
       "75%       2295.250000\n",
       "max      14053.000000\n",
       "Name: AB, dtype: float64"
      ]
     },
     "execution_count": 117,
     "metadata": {},
     "output_type": "execute_result"
    }
   ],
   "source": [
    "player.AB.describe()"
   ]
  },
  {
   "cell_type": "markdown",
   "id": "e0ee339a",
   "metadata": {},
   "source": [
    "The fact that the median number of at bats is less than half the mean futher supports that the distribution is positively skewed, with half the players in the sample having less than 725 at bats for their career.  Furthermore, 25%, or approximately 2000 players have between 100 and 267 at bats for their career.  "
   ]
  },
  {
   "cell_type": "markdown",
   "id": "612b26c4",
   "metadata": {},
   "source": [
    "An important consideration to take into account is that there is an underlying relationship in this data that has yet be accounted for by this analysis.  A player who is not a good hitter is likely to get fewer at bats than a player who is for at least two reasons.\n",
    "1. Players who don't hit well don't play in the Major Leagues as long as those who do, so they will have fewer at-bats.\n",
    "2. Players who are excellent defenders but poor hitters might hold a spot on the roster as a defensive specialist, whose role is to sub into a game in the later innings if his team has a lead.  If such a player regularly plays only the last couple of innings, and even then only in games where his team is winning, he will have fewer at-bats.  \n",
    "\n",
    "To test this hypothesis, I create a scatterplot of at-bats and batting average, and of at-bats and slugging percentage, and check the correlation of each."
   ]
  },
  {
   "cell_type": "code",
   "execution_count": 118,
   "id": "2e74ebda",
   "metadata": {},
   "outputs": [
    {
     "data": {
      "image/png": "[encoded data removed]",
      "text/plain": [
       "<Figure size 432x288 with 1 Axes>"
      ]
     },
     "metadata": {
      "needs_background": "light"
     },
     "output_type": "display_data"
    },
    {
     "data": {
      "text/plain": [
       "(0.529135377597978, 0.0)"
      ]
     },
     "execution_count": 118,
     "metadata": {},
     "output_type": "execute_result"
    }
   ],
   "source": [
    "at_bats = player.AB.values\n",
    "\n",
    "plt.scatter(batting_avg, at_bats)\n",
    "plt.title(\"Batting Average vs. at-bats\")\n",
    "plt.xlabel(\"Career Batting Average\")\n",
    "plt.ylabel(\"Career at-bats\")\n",
    "plt.show()\n",
    "scipy.stats.pearsonr(batting_avg, at_bats)"
   ]
  },
  {
   "cell_type": "code",
   "execution_count": 119,
   "id": "462eaa29",
   "metadata": {},
   "outputs": [
    {
     "data": {
      "image/png": "[encoded data removed]",
      "text/plain": [
       "<Figure size 432x288 with 1 Axes>"
      ]
     },
     "metadata": {
      "needs_background": "light"
     },
     "output_type": "display_data"
    },
    {
     "data": {
      "text/plain": [
       "(0.5535017118971135, 0.0)"
      ]
     },
     "execution_count": 119,
     "metadata": {},
     "output_type": "execute_result"
    }
   ],
   "source": [
    "plt.scatter(slug, at_bats)\n",
    "plt.title(\"Slugging Percentage vs. at-bats\")\n",
    "plt.xlabel(\"Career Slugging Percentage\")\n",
    "plt.ylabel(\"Career at-bats\")\n",
    "plt.show()\n",
    "scipy.stats.pearsonr(slug, at_bats)"
   ]
  },
  {
   "cell_type": "markdown",
   "id": "f8b463d3",
   "metadata": {},
   "source": [
    "Indeed, we see that players with a batting average below .200 or a slugging percentage below .300 get considerably fewer at-bats than players above these marks.  Both metrics are positively correlated with at-bats and have a correlation coefficient above 0.5.  The question is whether the analysis is biased by including players with fewer at-bats or by removing them.  Regardless, it would be interesting to replicate this analysis with players with more than 2000 at bats in their career to see how it compares, given that this is the point at which we start to see more variation in the relationship between at-bats and these hitting statistics."
   ]
  }
 ],
 "metadata": {
  "kernelspec": {
   "display_name": "Python 3 (ipykernel)",
   "language": "python",
   "name": "python3"
  },
  "language_info": {
   "codemirror_mode": {
    "name": "ipython",
    "version": 3
   },
   "file_extension": ".py",
   "mimetype": "text/x-python",
   "name": "python",
   "nbconvert_exporter": "python",
   "pygments_lexer": "ipython3",
   "version": "3.9.7"
  }
 },
 "nbformat": 4,
 "nbformat_minor": 5
}
